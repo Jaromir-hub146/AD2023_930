{
 "cells": [
  {
   "cell_type": "code",
   "execution_count": 42,
   "metadata": {},
   "outputs": [],
   "source": [
    "from cmdstanpy import CmdStanModel\n",
    "import arviz as az\n",
    "import numpy as np\n",
    "import scipy.stats as stats\n",
    "import matplotlib.pyplot as plt\n",
    "import pandas as pd\n",
    "import seaborn as sab"
   ]
  },
  {
   "cell_type": "code",
   "execution_count": 43,
   "metadata": {},
   "outputs": [
    {
     "name": "stdout",
     "output_type": "stream",
     "text": [
      "F = 7, L = 7, N = 1400\n"
     ]
    }
   ],
   "source": [
    "F = len(\"Jaromir\")\n",
    "L = len(\"Wegrzyn\")\n",
    "N = (L + F)*100\n",
    "print(f\"F = {F}, L = {L}, N = {N}\")"
   ]
  },
  {
   "attachments": {},
   "cell_type": "markdown",
   "metadata": {},
   "source": [
    "# **Lab 6 - Model comparison**"
   ]
  },
  {
   "attachments": {},
   "cell_type": "markdown",
   "metadata": {},
   "source": [
    "### Excercise 1 - generate data"
   ]
  },
  {
   "cell_type": "code",
   "execution_count": 44,
   "metadata": {},
   "outputs": [
    {
     "name": "stderr",
     "output_type": "stream",
     "text": [
      "INFO:cmdstanpy:found newer exe file, not recompiling\n"
     ]
    }
   ],
   "source": [
    "model_1=CmdStanModel(stan_file='code_1.stan')\n",
    "N_data = {'N': N}"
   ]
  },
  {
   "cell_type": "code",
   "execution_count": 45,
   "metadata": {},
   "outputs": [
    {
     "name": "stderr",
     "output_type": "stream",
     "text": [
      "INFO:cmdstanpy:CmdStan start processing\n"
     ]
    },
    {
     "data": {
      "application/json": {
       "ascii": false,
       "bar_format": "{desc} |{bar}| {elapsed} {postfix[0][value]}",
       "colour": null,
       "elapsed": 0.0656588077545166,
       "initial": 0,
       "n": 0,
       "ncols": null,
       "nrows": null,
       "postfix": [
        {
         "value": "Status"
        }
       ],
       "prefix": "chain 1",
       "rate": null,
       "total": 3,
       "unit": "it",
       "unit_divisor": 1000,
       "unit_scale": false
      },
      "application/vnd.jupyter.widget-view+json": {
       "model_id": "eb52b0fcbb434a58a9800e9efbb013bd",
       "version_major": 2,
       "version_minor": 0
      },
      "text/plain": [
       "chain 1 |          | 00:00 Status"
      ]
     },
     "metadata": {},
     "output_type": "display_data"
    },
    {
     "name": "stdout",
     "output_type": "stream",
     "text": [
      "                                                                                "
     ]
    },
    {
     "name": "stderr",
     "output_type": "stream",
     "text": [
      "INFO:cmdstanpy:CmdStan done processing.\n"
     ]
    },
    {
     "name": "stdout",
     "output_type": "stream",
     "text": [
      "\n"
     ]
    }
   ],
   "source": [
    "sim_1=model_1.sample(data=N_data,\n",
    "                     iter_sampling=1,\n",
    "                     iter_warmup=0,\n",
    "                     chains=1,\n",
    "                     fixed_param=True,\n",
    "                     seed=29042020,\n",
    "                     refresh=1)"
   ]
  },
  {
   "cell_type": "code",
   "execution_count": 46,
   "metadata": {},
   "outputs": [
    {
     "data": {
      "text/html": [
       "<div>\n",
       "<style scoped>\n",
       "    .dataframe tbody tr th:only-of-type {\n",
       "        vertical-align: middle;\n",
       "    }\n",
       "\n",
       "    .dataframe tbody tr th {\n",
       "        vertical-align: top;\n",
       "    }\n",
       "\n",
       "    .dataframe thead th {\n",
       "        text-align: right;\n",
       "    }\n",
       "</style>\n",
       "<table border=\"1\" class=\"dataframe\">\n",
       "  <thead>\n",
       "    <tr style=\"text-align: right;\">\n",
       "      <th></th>\n",
       "      <th>lp__</th>\n",
       "      <th>accept_stat__</th>\n",
       "      <th>theta</th>\n",
       "      <th>y[1]</th>\n",
       "      <th>y[2]</th>\n",
       "      <th>y[3]</th>\n",
       "      <th>y[4]</th>\n",
       "      <th>y[5]</th>\n",
       "      <th>y[6]</th>\n",
       "      <th>y[7]</th>\n",
       "      <th>...</th>\n",
       "      <th>y[1391]</th>\n",
       "      <th>y[1392]</th>\n",
       "      <th>y[1393]</th>\n",
       "      <th>y[1394]</th>\n",
       "      <th>y[1395]</th>\n",
       "      <th>y[1396]</th>\n",
       "      <th>y[1397]</th>\n",
       "      <th>y[1398]</th>\n",
       "      <th>y[1399]</th>\n",
       "      <th>y[1400]</th>\n",
       "    </tr>\n",
       "  </thead>\n",
       "  <tbody>\n",
       "    <tr>\n",
       "      <th>0</th>\n",
       "      <td>0.0</td>\n",
       "      <td>0.0</td>\n",
       "      <td>0.01</td>\n",
       "      <td>-0.424502</td>\n",
       "      <td>-0.063661</td>\n",
       "      <td>-0.833885</td>\n",
       "      <td>1.55158</td>\n",
       "      <td>-0.362245</td>\n",
       "      <td>0.743487</td>\n",
       "      <td>0.970844</td>\n",
       "      <td>...</td>\n",
       "      <td>-0.172749</td>\n",
       "      <td>1.53637</td>\n",
       "      <td>0.74268</td>\n",
       "      <td>-0.073685</td>\n",
       "      <td>2.03962</td>\n",
       "      <td>-0.166802</td>\n",
       "      <td>-0.200499</td>\n",
       "      <td>-0.304691</td>\n",
       "      <td>-0.304062</td>\n",
       "      <td>0.812941</td>\n",
       "    </tr>\n",
       "  </tbody>\n",
       "</table>\n",
       "<p>1 rows × 1403 columns</p>\n",
       "</div>"
      ],
      "text/plain": [
       "   lp__  accept_stat__  theta      y[1]      y[2]      y[3]     y[4]  \\\n",
       "0   0.0            0.0   0.01 -0.424502 -0.063661 -0.833885  1.55158   \n",
       "\n",
       "       y[5]      y[6]      y[7]  ...   y[1391]  y[1392]  y[1393]   y[1394]  \\\n",
       "0 -0.362245  0.743487  0.970844  ... -0.172749  1.53637  0.74268 -0.073685   \n",
       "\n",
       "   y[1395]   y[1396]   y[1397]   y[1398]   y[1399]   y[1400]  \n",
       "0  2.03962 -0.166802 -0.200499 -0.304691 -0.304062  0.812941  \n",
       "\n",
       "[1 rows x 1403 columns]"
      ]
     },
     "execution_count": 46,
     "metadata": {},
     "output_type": "execute_result"
    }
   ],
   "source": [
    "dataframe_1=sim_1.draws_pd()\n",
    "dataframe_1.head()"
   ]
  },
  {
   "cell_type": "code",
   "execution_count": 47,
   "metadata": {},
   "outputs": [
    {
     "name": "stderr",
     "output_type": "stream",
     "text": [
      "INFO:cmdstanpy:found newer exe file, not recompiling\n"
     ]
    }
   ],
   "source": [
    "model_2=CmdStanModel(stan_file='code_2.stan')"
   ]
  },
  {
   "cell_type": "code",
   "execution_count": 48,
   "metadata": {},
   "outputs": [
    {
     "name": "stderr",
     "output_type": "stream",
     "text": [
      "INFO:cmdstanpy:CmdStan start processing\n"
     ]
    },
    {
     "data": {
      "application/json": {
       "ascii": false,
       "bar_format": "{desc} |{bar}| {elapsed} {postfix[0][value]}",
       "colour": null,
       "elapsed": 0.06724929809570312,
       "initial": 0,
       "n": 0,
       "ncols": null,
       "nrows": null,
       "postfix": [
        {
         "value": "Status"
        }
       ],
       "prefix": "chain 1",
       "rate": null,
       "total": 3,
       "unit": "it",
       "unit_divisor": 1000,
       "unit_scale": false
      },
      "application/vnd.jupyter.widget-view+json": {
       "model_id": "f4cc7ca095564c1e9fdb71fb12fad371",
       "version_major": 2,
       "version_minor": 0
      },
      "text/plain": [
       "chain 1 |          | 00:00 Status"
      ]
     },
     "metadata": {},
     "output_type": "display_data"
    },
    {
     "name": "stdout",
     "output_type": "stream",
     "text": [
      "                                                                                "
     ]
    },
    {
     "name": "stderr",
     "output_type": "stream",
     "text": [
      "INFO:cmdstanpy:CmdStan done processing.\n"
     ]
    },
    {
     "name": "stdout",
     "output_type": "stream",
     "text": [
      "\n"
     ]
    }
   ],
   "source": [
    "sim_2=model_2.sample(data=N_data,\n",
    "                     iter_sampling=1,\n",
    "                     iter_warmup=0,\n",
    "                     chains=1,\n",
    "                     fixed_param=True,\n",
    "                     seed=29042020,\n",
    "                     refresh=1)"
   ]
  },
  {
   "cell_type": "code",
   "execution_count": 49,
   "metadata": {},
   "outputs": [
    {
     "data": {
      "text/html": [
       "<div>\n",
       "<style scoped>\n",
       "    .dataframe tbody tr th:only-of-type {\n",
       "        vertical-align: middle;\n",
       "    }\n",
       "\n",
       "    .dataframe tbody tr th {\n",
       "        vertical-align: top;\n",
       "    }\n",
       "\n",
       "    .dataframe thead th {\n",
       "        text-align: right;\n",
       "    }\n",
       "</style>\n",
       "<table border=\"1\" class=\"dataframe\">\n",
       "  <thead>\n",
       "    <tr style=\"text-align: right;\">\n",
       "      <th></th>\n",
       "      <th>lp__</th>\n",
       "      <th>accept_stat__</th>\n",
       "      <th>X[1,1]</th>\n",
       "      <th>X[2,1]</th>\n",
       "      <th>X[3,1]</th>\n",
       "      <th>X[4,1]</th>\n",
       "      <th>X[5,1]</th>\n",
       "      <th>X[6,1]</th>\n",
       "      <th>X[7,1]</th>\n",
       "      <th>X[8,1]</th>\n",
       "      <th>...</th>\n",
       "      <th>y[1391]</th>\n",
       "      <th>y[1392]</th>\n",
       "      <th>y[1393]</th>\n",
       "      <th>y[1394]</th>\n",
       "      <th>y[1395]</th>\n",
       "      <th>y[1396]</th>\n",
       "      <th>y[1397]</th>\n",
       "      <th>y[1398]</th>\n",
       "      <th>y[1399]</th>\n",
       "      <th>y[1400]</th>\n",
       "    </tr>\n",
       "  </thead>\n",
       "  <tbody>\n",
       "    <tr>\n",
       "      <th>0</th>\n",
       "      <td>0.0</td>\n",
       "      <td>0.0</td>\n",
       "      <td>2.70817</td>\n",
       "      <td>0.777181</td>\n",
       "      <td>-1.27227</td>\n",
       "      <td>0.127591</td>\n",
       "      <td>-1.38942</td>\n",
       "      <td>0.246162</td>\n",
       "      <td>1.19873</td>\n",
       "      <td>2.26533</td>\n",
       "      <td>...</td>\n",
       "      <td>-0.580623</td>\n",
       "      <td>-3.87758</td>\n",
       "      <td>0.432652</td>\n",
       "      <td>-0.723898</td>\n",
       "      <td>2.00589</td>\n",
       "      <td>1.74348</td>\n",
       "      <td>-1.54076</td>\n",
       "      <td>-0.564548</td>\n",
       "      <td>0.183165</td>\n",
       "      <td>3.44084</td>\n",
       "    </tr>\n",
       "  </tbody>\n",
       "</table>\n",
       "<p>1 rows × 5605 columns</p>\n",
       "</div>"
      ],
      "text/plain": [
       "   lp__  accept_stat__   X[1,1]    X[2,1]   X[3,1]    X[4,1]   X[5,1]  \\\n",
       "0   0.0            0.0  2.70817  0.777181 -1.27227  0.127591 -1.38942   \n",
       "\n",
       "     X[6,1]   X[7,1]   X[8,1]  ...   y[1391]  y[1392]   y[1393]   y[1394]  \\\n",
       "0  0.246162  1.19873  2.26533  ... -0.580623 -3.87758  0.432652 -0.723898   \n",
       "\n",
       "   y[1395]  y[1396]  y[1397]   y[1398]   y[1399]  y[1400]  \n",
       "0  2.00589  1.74348 -1.54076 -0.564548  0.183165  3.44084  \n",
       "\n",
       "[1 rows x 5605 columns]"
      ]
     },
     "execution_count": 49,
     "metadata": {},
     "output_type": "execute_result"
    }
   ],
   "source": [
    "dataframe_2=sim_2.draws_pd()\n",
    "dataframe_2.head()"
   ]
  },
  {
   "attachments": {},
   "cell_type": "markdown",
   "metadata": {},
   "source": [
    "### Excercise 2 - compare normal and student models"
   ]
  },
  {
   "cell_type": "code",
   "execution_count": 50,
   "metadata": {},
   "outputs": [],
   "source": [
    "y_data = dataframe_1.loc[0, \"y[1]\": f\"y[{N}]\"]\n",
    "data_ = {'N': N, 'y': y_data}\n",
    "R = 1000"
   ]
  },
  {
   "cell_type": "code",
   "execution_count": 51,
   "metadata": {},
   "outputs": [
    {
     "name": "stderr",
     "output_type": "stream",
     "text": [
      "INFO:cmdstanpy:found newer exe file, not recompiling\n",
      "INFO:cmdstanpy:found newer exe file, not recompiling\n"
     ]
    }
   ],
   "source": [
    "model_3=CmdStanModel(stan_file='code_3.stan')\n",
    "model_4=CmdStanModel(stan_file='code_4.stan')"
   ]
  },
  {
   "cell_type": "code",
   "execution_count": 52,
   "metadata": {},
   "outputs": [
    {
     "name": "stderr",
     "output_type": "stream",
     "text": [
      "INFO:cmdstanpy:CmdStan start processing\n"
     ]
    },
    {
     "data": {
      "application/json": {
       "ascii": false,
       "bar_format": "{desc} |{bar}| {elapsed} {postfix[0][value]}",
       "colour": null,
       "elapsed": 0.03722953796386719,
       "initial": 0,
       "n": 0,
       "ncols": null,
       "nrows": null,
       "postfix": [
        {
         "value": "Status"
        }
       ],
       "prefix": "chain 1",
       "rate": null,
       "total": 3,
       "unit": "it",
       "unit_divisor": 1000,
       "unit_scale": false
      },
      "application/vnd.jupyter.widget-view+json": {
       "model_id": "0b61999af8fa4e26bbe62e8317ce56f9",
       "version_major": 2,
       "version_minor": 0
      },
      "text/plain": [
       "chain 1 |          | 00:00 Status"
      ]
     },
     "metadata": {},
     "output_type": "display_data"
    },
    {
     "name": "stdout",
     "output_type": "stream",
     "text": [
      "                                                                                "
     ]
    },
    {
     "name": "stderr",
     "output_type": "stream",
     "text": [
      "INFO:cmdstanpy:CmdStan done processing.\n"
     ]
    },
    {
     "name": "stdout",
     "output_type": "stream",
     "text": [
      "\n"
     ]
    }
   ],
   "source": [
    "sim_3=model_3.sample(data=data_,\n",
    "                     iter_sampling=R,\n",
    "                     iter_warmup=0,\n",
    "                     chains=1,\n",
    "                     fixed_param=True,\n",
    "                     seed=29042020,\n",
    "                     refresh=R)"
   ]
  },
  {
   "cell_type": "code",
   "execution_count": 53,
   "metadata": {},
   "outputs": [
    {
     "name": "stderr",
     "output_type": "stream",
     "text": [
      "INFO:cmdstanpy:CmdStan start processing\n"
     ]
    },
    {
     "data": {
      "application/json": {
       "ascii": false,
       "bar_format": "{desc} |{bar}| {elapsed} {postfix[0][value]}",
       "colour": null,
       "elapsed": 0.0637969970703125,
       "initial": 0,
       "n": 0,
       "ncols": null,
       "nrows": null,
       "postfix": [
        {
         "value": "Status"
        }
       ],
       "prefix": "chain 1",
       "rate": null,
       "total": 3,
       "unit": "it",
       "unit_divisor": 1000,
       "unit_scale": false
      },
      "application/vnd.jupyter.widget-view+json": {
       "model_id": "b33c8d6f76de4bbeabb840954ffe967f",
       "version_major": 2,
       "version_minor": 0
      },
      "text/plain": [
       "chain 1 |          | 00:00 Status"
      ]
     },
     "metadata": {},
     "output_type": "display_data"
    },
    {
     "name": "stdout",
     "output_type": "stream",
     "text": [
      "                                                                                "
     ]
    },
    {
     "name": "stderr",
     "output_type": "stream",
     "text": [
      "INFO:cmdstanpy:CmdStan done processing.\n"
     ]
    },
    {
     "name": "stdout",
     "output_type": "stream",
     "text": [
      "\n"
     ]
    }
   ],
   "source": [
    "sim_4=model_4.sample(data=data_,\n",
    "                     iter_sampling=R,\n",
    "                     iter_warmup=0,\n",
    "                     chains=1,\n",
    "                     fixed_param=True,\n",
    "                     seed=29042020,\n",
    "                     refresh=R)"
   ]
  },
  {
   "cell_type": "code",
   "execution_count": 54,
   "metadata": {},
   "outputs": [
    {
     "data": {
      "text/html": [
       "<div>\n",
       "<style scoped>\n",
       "    .dataframe tbody tr th:only-of-type {\n",
       "        vertical-align: middle;\n",
       "    }\n",
       "\n",
       "    .dataframe tbody tr th {\n",
       "        vertical-align: top;\n",
       "    }\n",
       "\n",
       "    .dataframe thead th {\n",
       "        text-align: right;\n",
       "    }\n",
       "</style>\n",
       "<table border=\"1\" class=\"dataframe\">\n",
       "  <thead>\n",
       "    <tr style=\"text-align: right;\">\n",
       "      <th></th>\n",
       "      <th>lp__</th>\n",
       "      <th>accept_stat__</th>\n",
       "      <th>sigma</th>\n",
       "      <th>mu</th>\n",
       "      <th>log_lik[1]</th>\n",
       "      <th>log_lik[2]</th>\n",
       "      <th>log_lik[3]</th>\n",
       "      <th>log_lik[4]</th>\n",
       "      <th>log_lik[5]</th>\n",
       "      <th>log_lik[6]</th>\n",
       "      <th>...</th>\n",
       "      <th>y_hat[1391]</th>\n",
       "      <th>y_hat[1392]</th>\n",
       "      <th>y_hat[1393]</th>\n",
       "      <th>y_hat[1394]</th>\n",
       "      <th>y_hat[1395]</th>\n",
       "      <th>y_hat[1396]</th>\n",
       "      <th>y_hat[1397]</th>\n",
       "      <th>y_hat[1398]</th>\n",
       "      <th>y_hat[1399]</th>\n",
       "      <th>y_hat[1400]</th>\n",
       "    </tr>\n",
       "  </thead>\n",
       "  <tbody>\n",
       "    <tr>\n",
       "      <th>0</th>\n",
       "      <td>0.0</td>\n",
       "      <td>0.0</td>\n",
       "      <td>0.815985</td>\n",
       "      <td>0.899524</td>\n",
       "      <td>-2.03201</td>\n",
       "      <td>-1.41225</td>\n",
       "      <td>-2.97193</td>\n",
       "      <td>-1.03486</td>\n",
       "      <td>-1.91112</td>\n",
       "      <td>-0.733863</td>\n",
       "      <td>...</td>\n",
       "      <td>1.117900</td>\n",
       "      <td>-0.204379</td>\n",
       "      <td>1.652360</td>\n",
       "      <td>0.790490</td>\n",
       "      <td>1.049820</td>\n",
       "      <td>0.502677</td>\n",
       "      <td>0.450047</td>\n",
       "      <td>0.101082</td>\n",
       "      <td>1.007090</td>\n",
       "      <td>2.203670</td>\n",
       "    </tr>\n",
       "    <tr>\n",
       "      <th>1</th>\n",
       "      <td>0.0</td>\n",
       "      <td>0.0</td>\n",
       "      <td>0.815985</td>\n",
       "      <td>0.899524</td>\n",
       "      <td>-2.03201</td>\n",
       "      <td>-1.41225</td>\n",
       "      <td>-2.97193</td>\n",
       "      <td>-1.03486</td>\n",
       "      <td>-1.91112</td>\n",
       "      <td>-0.733863</td>\n",
       "      <td>...</td>\n",
       "      <td>0.139626</td>\n",
       "      <td>0.889336</td>\n",
       "      <td>0.770010</td>\n",
       "      <td>0.541178</td>\n",
       "      <td>2.814750</td>\n",
       "      <td>1.747510</td>\n",
       "      <td>-0.106848</td>\n",
       "      <td>1.119880</td>\n",
       "      <td>1.245970</td>\n",
       "      <td>0.669973</td>\n",
       "    </tr>\n",
       "    <tr>\n",
       "      <th>2</th>\n",
       "      <td>0.0</td>\n",
       "      <td>0.0</td>\n",
       "      <td>0.815985</td>\n",
       "      <td>0.899524</td>\n",
       "      <td>-2.03201</td>\n",
       "      <td>-1.41225</td>\n",
       "      <td>-2.97193</td>\n",
       "      <td>-1.03486</td>\n",
       "      <td>-1.91112</td>\n",
       "      <td>-0.733863</td>\n",
       "      <td>...</td>\n",
       "      <td>1.274380</td>\n",
       "      <td>0.626974</td>\n",
       "      <td>0.167241</td>\n",
       "      <td>1.929690</td>\n",
       "      <td>-0.170927</td>\n",
       "      <td>1.055260</td>\n",
       "      <td>1.417630</td>\n",
       "      <td>-0.006020</td>\n",
       "      <td>1.943450</td>\n",
       "      <td>2.238570</td>\n",
       "    </tr>\n",
       "    <tr>\n",
       "      <th>3</th>\n",
       "      <td>0.0</td>\n",
       "      <td>0.0</td>\n",
       "      <td>0.815985</td>\n",
       "      <td>0.899524</td>\n",
       "      <td>-2.03201</td>\n",
       "      <td>-1.41225</td>\n",
       "      <td>-2.97193</td>\n",
       "      <td>-1.03486</td>\n",
       "      <td>-1.91112</td>\n",
       "      <td>-0.733863</td>\n",
       "      <td>...</td>\n",
       "      <td>0.561457</td>\n",
       "      <td>0.089741</td>\n",
       "      <td>0.242537</td>\n",
       "      <td>0.370165</td>\n",
       "      <td>0.855705</td>\n",
       "      <td>2.190020</td>\n",
       "      <td>1.288560</td>\n",
       "      <td>2.268160</td>\n",
       "      <td>-0.034560</td>\n",
       "      <td>0.658929</td>\n",
       "    </tr>\n",
       "    <tr>\n",
       "      <th>4</th>\n",
       "      <td>0.0</td>\n",
       "      <td>0.0</td>\n",
       "      <td>0.815985</td>\n",
       "      <td>0.899524</td>\n",
       "      <td>-2.03201</td>\n",
       "      <td>-1.41225</td>\n",
       "      <td>-2.97193</td>\n",
       "      <td>-1.03486</td>\n",
       "      <td>-1.91112</td>\n",
       "      <td>-0.733863</td>\n",
       "      <td>...</td>\n",
       "      <td>0.914080</td>\n",
       "      <td>1.792460</td>\n",
       "      <td>1.550380</td>\n",
       "      <td>0.579077</td>\n",
       "      <td>0.937800</td>\n",
       "      <td>-0.664691</td>\n",
       "      <td>0.086077</td>\n",
       "      <td>0.468764</td>\n",
       "      <td>0.699627</td>\n",
       "      <td>1.310040</td>\n",
       "    </tr>\n",
       "  </tbody>\n",
       "</table>\n",
       "<p>5 rows × 2804 columns</p>\n",
       "</div>"
      ],
      "text/plain": [
       "   lp__  accept_stat__     sigma        mu  log_lik[1]  log_lik[2]  \\\n",
       "0   0.0            0.0  0.815985  0.899524    -2.03201    -1.41225   \n",
       "1   0.0            0.0  0.815985  0.899524    -2.03201    -1.41225   \n",
       "2   0.0            0.0  0.815985  0.899524    -2.03201    -1.41225   \n",
       "3   0.0            0.0  0.815985  0.899524    -2.03201    -1.41225   \n",
       "4   0.0            0.0  0.815985  0.899524    -2.03201    -1.41225   \n",
       "\n",
       "   log_lik[3]  log_lik[4]  log_lik[5]  log_lik[6]  ...  y_hat[1391]  \\\n",
       "0    -2.97193    -1.03486    -1.91112   -0.733863  ...     1.117900   \n",
       "1    -2.97193    -1.03486    -1.91112   -0.733863  ...     0.139626   \n",
       "2    -2.97193    -1.03486    -1.91112   -0.733863  ...     1.274380   \n",
       "3    -2.97193    -1.03486    -1.91112   -0.733863  ...     0.561457   \n",
       "4    -2.97193    -1.03486    -1.91112   -0.733863  ...     0.914080   \n",
       "\n",
       "   y_hat[1392]  y_hat[1393]  y_hat[1394]  y_hat[1395]  y_hat[1396]  \\\n",
       "0    -0.204379     1.652360     0.790490     1.049820     0.502677   \n",
       "1     0.889336     0.770010     0.541178     2.814750     1.747510   \n",
       "2     0.626974     0.167241     1.929690    -0.170927     1.055260   \n",
       "3     0.089741     0.242537     0.370165     0.855705     2.190020   \n",
       "4     1.792460     1.550380     0.579077     0.937800    -0.664691   \n",
       "\n",
       "   y_hat[1397]  y_hat[1398]  y_hat[1399]  y_hat[1400]  \n",
       "0     0.450047     0.101082     1.007090     2.203670  \n",
       "1    -0.106848     1.119880     1.245970     0.669973  \n",
       "2     1.417630    -0.006020     1.943450     2.238570  \n",
       "3     1.288560     2.268160    -0.034560     0.658929  \n",
       "4     0.086077     0.468764     0.699627     1.310040  \n",
       "\n",
       "[5 rows x 2804 columns]"
      ]
     },
     "execution_count": 54,
     "metadata": {},
     "output_type": "execute_result"
    }
   ],
   "source": [
    "dataframe_3=sim_3.draws_pd()\n",
    "dataframe_3.head()"
   ]
  },
  {
   "cell_type": "code",
   "execution_count": 55,
   "metadata": {},
   "outputs": [
    {
     "data": {
      "text/html": [
       "<div>\n",
       "<style scoped>\n",
       "    .dataframe tbody tr th:only-of-type {\n",
       "        vertical-align: middle;\n",
       "    }\n",
       "\n",
       "    .dataframe tbody tr th {\n",
       "        vertical-align: top;\n",
       "    }\n",
       "\n",
       "    .dataframe thead th {\n",
       "        text-align: right;\n",
       "    }\n",
       "</style>\n",
       "<table border=\"1\" class=\"dataframe\">\n",
       "  <thead>\n",
       "    <tr style=\"text-align: right;\">\n",
       "      <th></th>\n",
       "      <th>lp__</th>\n",
       "      <th>accept_stat__</th>\n",
       "      <th>sigma</th>\n",
       "      <th>mu</th>\n",
       "      <th>nu</th>\n",
       "      <th>log_lik[1]</th>\n",
       "      <th>log_lik[2]</th>\n",
       "      <th>log_lik[3]</th>\n",
       "      <th>log_lik[4]</th>\n",
       "      <th>log_lik[5]</th>\n",
       "      <th>...</th>\n",
       "      <th>y_hat[1391]</th>\n",
       "      <th>y_hat[1392]</th>\n",
       "      <th>y_hat[1393]</th>\n",
       "      <th>y_hat[1394]</th>\n",
       "      <th>y_hat[1395]</th>\n",
       "      <th>y_hat[1396]</th>\n",
       "      <th>y_hat[1397]</th>\n",
       "      <th>y_hat[1398]</th>\n",
       "      <th>y_hat[1399]</th>\n",
       "      <th>y_hat[1400]</th>\n",
       "    </tr>\n",
       "  </thead>\n",
       "  <tbody>\n",
       "    <tr>\n",
       "      <th>0</th>\n",
       "      <td>0.0</td>\n",
       "      <td>0.0</td>\n",
       "      <td>0.815985</td>\n",
       "      <td>0.899524</td>\n",
       "      <td>5.44859</td>\n",
       "      <td>-2.03228</td>\n",
       "      <td>-1.49543</td>\n",
       "      <td>-2.7066</td>\n",
       "      <td>-1.11854</td>\n",
       "      <td>-1.93434</td>\n",
       "      <td>...</td>\n",
       "      <td>1.96117</td>\n",
       "      <td>-0.076404</td>\n",
       "      <td>0.730758</td>\n",
       "      <td>1.33551</td>\n",
       "      <td>1.972550</td>\n",
       "      <td>0.666709</td>\n",
       "      <td>1.380130</td>\n",
       "      <td>0.927500</td>\n",
       "      <td>1.525550</td>\n",
       "      <td>0.395094</td>\n",
       "    </tr>\n",
       "    <tr>\n",
       "      <th>1</th>\n",
       "      <td>0.0</td>\n",
       "      <td>0.0</td>\n",
       "      <td>0.815985</td>\n",
       "      <td>0.899524</td>\n",
       "      <td>5.44859</td>\n",
       "      <td>-2.03228</td>\n",
       "      <td>-1.49543</td>\n",
       "      <td>-2.7066</td>\n",
       "      <td>-1.11854</td>\n",
       "      <td>-1.93434</td>\n",
       "      <td>...</td>\n",
       "      <td>2.76647</td>\n",
       "      <td>2.141770</td>\n",
       "      <td>1.594070</td>\n",
       "      <td>1.70222</td>\n",
       "      <td>0.892996</td>\n",
       "      <td>1.161360</td>\n",
       "      <td>1.506730</td>\n",
       "      <td>1.519180</td>\n",
       "      <td>-0.060489</td>\n",
       "      <td>0.244630</td>\n",
       "    </tr>\n",
       "    <tr>\n",
       "      <th>2</th>\n",
       "      <td>0.0</td>\n",
       "      <td>0.0</td>\n",
       "      <td>0.815985</td>\n",
       "      <td>0.899524</td>\n",
       "      <td>5.44859</td>\n",
       "      <td>-2.03228</td>\n",
       "      <td>-1.49543</td>\n",
       "      <td>-2.7066</td>\n",
       "      <td>-1.11854</td>\n",
       "      <td>-1.93434</td>\n",
       "      <td>...</td>\n",
       "      <td>1.32518</td>\n",
       "      <td>-0.110563</td>\n",
       "      <td>0.812951</td>\n",
       "      <td>-1.05473</td>\n",
       "      <td>2.077190</td>\n",
       "      <td>1.146820</td>\n",
       "      <td>2.476890</td>\n",
       "      <td>0.211898</td>\n",
       "      <td>0.566336</td>\n",
       "      <td>2.261140</td>\n",
       "    </tr>\n",
       "    <tr>\n",
       "      <th>3</th>\n",
       "      <td>0.0</td>\n",
       "      <td>0.0</td>\n",
       "      <td>0.815985</td>\n",
       "      <td>0.899524</td>\n",
       "      <td>5.44859</td>\n",
       "      <td>-2.03228</td>\n",
       "      <td>-1.49543</td>\n",
       "      <td>-2.7066</td>\n",
       "      <td>-1.11854</td>\n",
       "      <td>-1.93434</td>\n",
       "      <td>...</td>\n",
       "      <td>1.48813</td>\n",
       "      <td>0.402835</td>\n",
       "      <td>1.968830</td>\n",
       "      <td>1.81835</td>\n",
       "      <td>0.193077</td>\n",
       "      <td>-0.618686</td>\n",
       "      <td>1.775920</td>\n",
       "      <td>1.067390</td>\n",
       "      <td>0.453174</td>\n",
       "      <td>-0.251487</td>\n",
       "    </tr>\n",
       "    <tr>\n",
       "      <th>4</th>\n",
       "      <td>0.0</td>\n",
       "      <td>0.0</td>\n",
       "      <td>0.815985</td>\n",
       "      <td>0.899524</td>\n",
       "      <td>5.44859</td>\n",
       "      <td>-2.03228</td>\n",
       "      <td>-1.49543</td>\n",
       "      <td>-2.7066</td>\n",
       "      <td>-1.11854</td>\n",
       "      <td>-1.93434</td>\n",
       "      <td>...</td>\n",
       "      <td>-3.71810</td>\n",
       "      <td>0.834734</td>\n",
       "      <td>0.436568</td>\n",
       "      <td>2.42292</td>\n",
       "      <td>3.587130</td>\n",
       "      <td>-0.447192</td>\n",
       "      <td>-0.259813</td>\n",
       "      <td>1.902460</td>\n",
       "      <td>1.736390</td>\n",
       "      <td>0.815895</td>\n",
       "    </tr>\n",
       "  </tbody>\n",
       "</table>\n",
       "<p>5 rows × 2805 columns</p>\n",
       "</div>"
      ],
      "text/plain": [
       "   lp__  accept_stat__     sigma        mu       nu  log_lik[1]  log_lik[2]  \\\n",
       "0   0.0            0.0  0.815985  0.899524  5.44859    -2.03228    -1.49543   \n",
       "1   0.0            0.0  0.815985  0.899524  5.44859    -2.03228    -1.49543   \n",
       "2   0.0            0.0  0.815985  0.899524  5.44859    -2.03228    -1.49543   \n",
       "3   0.0            0.0  0.815985  0.899524  5.44859    -2.03228    -1.49543   \n",
       "4   0.0            0.0  0.815985  0.899524  5.44859    -2.03228    -1.49543   \n",
       "\n",
       "   log_lik[3]  log_lik[4]  log_lik[5]  ...  y_hat[1391]  y_hat[1392]  \\\n",
       "0     -2.7066    -1.11854    -1.93434  ...      1.96117    -0.076404   \n",
       "1     -2.7066    -1.11854    -1.93434  ...      2.76647     2.141770   \n",
       "2     -2.7066    -1.11854    -1.93434  ...      1.32518    -0.110563   \n",
       "3     -2.7066    -1.11854    -1.93434  ...      1.48813     0.402835   \n",
       "4     -2.7066    -1.11854    -1.93434  ...     -3.71810     0.834734   \n",
       "\n",
       "   y_hat[1393]  y_hat[1394]  y_hat[1395]  y_hat[1396]  y_hat[1397]  \\\n",
       "0     0.730758      1.33551     1.972550     0.666709     1.380130   \n",
       "1     1.594070      1.70222     0.892996     1.161360     1.506730   \n",
       "2     0.812951     -1.05473     2.077190     1.146820     2.476890   \n",
       "3     1.968830      1.81835     0.193077    -0.618686     1.775920   \n",
       "4     0.436568      2.42292     3.587130    -0.447192    -0.259813   \n",
       "\n",
       "   y_hat[1398]  y_hat[1399]  y_hat[1400]  \n",
       "0     0.927500     1.525550     0.395094  \n",
       "1     1.519180    -0.060489     0.244630  \n",
       "2     0.211898     0.566336     2.261140  \n",
       "3     1.067390     0.453174    -0.251487  \n",
       "4     1.902460     1.736390     0.815895  \n",
       "\n",
       "[5 rows x 2805 columns]"
      ]
     },
     "execution_count": 55,
     "metadata": {},
     "output_type": "execute_result"
    }
   ],
   "source": [
    "dataframe_4=sim_4.draws_pd()\n",
    "dataframe_4.head()"
   ]
  },
  {
   "attachments": {},
   "cell_type": "markdown",
   "metadata": {},
   "source": [
    "### **Model comparison**"
   ]
  },
  {
   "attachments": {},
   "cell_type": "markdown",
   "metadata": {},
   "source": [
    "#### **Normal model**"
   ]
  },
  {
   "attachments": {},
   "cell_type": "markdown",
   "metadata": {},
   "source": [
    "### **LOO**"
   ]
  },
  {
   "cell_type": "code",
   "execution_count": 56,
   "metadata": {},
   "outputs": [
    {
     "name": "stderr",
     "output_type": "stream",
     "text": [
      "/usr/local/lib/python3.9/site-packages/arviz/stats/stats.py:811: UserWarning: Estimated shape parameter of Pareto distribution is greater than 0.7 for one or more samples. You should consider using a more robust model, this is because importance sampling is less likely to work well if the marginal posterior and LOO posterior are very different. This is more likely to happen with a non-robust model and highly influential observations.\n",
      "  warnings.warn(\n"
     ]
    },
    {
     "data": {
      "text/plain": [
       "Computed from 1000 by 1400 log-likelihood matrix\n",
       "\n",
       "         Estimate       SE\n",
       "elpd_loo -4262.42   480.42\n",
       "p_loo        0.00        -\n",
       "\n",
       "There has been a warning during the calculation. Please check the results.\n",
       "------\n",
       "\n",
       "Pareto k diagnostic values:\n",
       "                         Count   Pct.\n",
       "(-Inf, 0.5]   (good)        0    0.0%\n",
       " (0.5, 0.7]   (ok)          0    0.0%\n",
       "   (0.7, 1]   (bad)         0    0.0%\n",
       "   (1, Inf)   (very bad) 1400  100.0%"
      ]
     },
     "execution_count": 56,
     "metadata": {},
     "output_type": "execute_result"
    }
   ],
   "source": [
    "az.loo(sim_3)"
   ]
  },
  {
   "attachments": {},
   "cell_type": "markdown",
   "metadata": {},
   "source": [
    "### **WAIC**"
   ]
  },
  {
   "cell_type": "code",
   "execution_count": 57,
   "metadata": {},
   "outputs": [
    {
     "data": {
      "text/plain": [
       "Computed from 1000 by 1400 log-likelihood matrix\n",
       "\n",
       "          Estimate       SE\n",
       "elpd_waic -4262.42   480.42\n",
       "p_waic        0.00        -"
      ]
     },
     "execution_count": 57,
     "metadata": {},
     "output_type": "execute_result"
    }
   ],
   "source": [
    "az.waic(sim_3)"
   ]
  },
  {
   "attachments": {},
   "cell_type": "markdown",
   "metadata": {},
   "source": [
    "#### **Student model**"
   ]
  },
  {
   "attachments": {},
   "cell_type": "markdown",
   "metadata": {},
   "source": [
    "### **LOO**"
   ]
  },
  {
   "cell_type": "code",
   "execution_count": 58,
   "metadata": {},
   "outputs": [
    {
     "name": "stderr",
     "output_type": "stream",
     "text": [
      "/usr/local/lib/python3.9/site-packages/arviz/stats/stats.py:811: UserWarning: Estimated shape parameter of Pareto distribution is greater than 0.7 for one or more samples. You should consider using a more robust model, this is because importance sampling is less likely to work well if the marginal posterior and LOO posterior are very different. This is more likely to happen with a non-robust model and highly influential observations.\n",
      "  warnings.warn(\n"
     ]
    },
    {
     "data": {
      "text/plain": [
       "Computed from 1000 by 1400 log-likelihood matrix\n",
       "\n",
       "         Estimate       SE\n",
       "elpd_loo -2688.53    54.29\n",
       "p_loo        0.00        -\n",
       "\n",
       "There has been a warning during the calculation. Please check the results.\n",
       "------\n",
       "\n",
       "Pareto k diagnostic values:\n",
       "                         Count   Pct.\n",
       "(-Inf, 0.5]   (good)        0    0.0%\n",
       " (0.5, 0.7]   (ok)          0    0.0%\n",
       "   (0.7, 1]   (bad)         0    0.0%\n",
       "   (1, Inf)   (very bad) 1400  100.0%"
      ]
     },
     "execution_count": 58,
     "metadata": {},
     "output_type": "execute_result"
    }
   ],
   "source": [
    "az.loo(sim_4)"
   ]
  },
  {
   "attachments": {},
   "cell_type": "markdown",
   "metadata": {},
   "source": [
    "### **WAIC**"
   ]
  },
  {
   "cell_type": "code",
   "execution_count": 59,
   "metadata": {},
   "outputs": [
    {
     "data": {
      "text/plain": [
       "Computed from 1000 by 1400 log-likelihood matrix\n",
       "\n",
       "          Estimate       SE\n",
       "elpd_waic -2688.53    54.29\n",
       "p_waic        0.00        -"
      ]
     },
     "execution_count": 59,
     "metadata": {},
     "output_type": "execute_result"
    }
   ],
   "source": [
    "az.waic(sim_4)"
   ]
  },
  {
   "attachments": {},
   "cell_type": "markdown",
   "metadata": {},
   "source": [
    "### LOO model comparison"
   ]
  },
  {
   "cell_type": "code",
   "execution_count": 60,
   "metadata": {},
   "outputs": [],
   "source": [
    "model_3_fit_1 = az.from_cmdstanpy(posterior=sim_3)\n",
    "model_4_fit_1 = az.from_cmdstanpy(posterior=sim_4)"
   ]
  },
  {
   "cell_type": "code",
   "execution_count": 61,
   "metadata": {},
   "outputs": [
    {
     "name": "stderr",
     "output_type": "stream",
     "text": [
      "/usr/local/lib/python3.9/site-packages/arviz/stats/stats.py:811: UserWarning: Estimated shape parameter of Pareto distribution is greater than 0.7 for one or more samples. You should consider using a more robust model, this is because importance sampling is less likely to work well if the marginal posterior and LOO posterior are very different. This is more likely to happen with a non-robust model and highly influential observations.\n",
      "  warnings.warn(\n",
      "/usr/local/lib/python3.9/site-packages/arviz/stats/stats.py:811: UserWarning: Estimated shape parameter of Pareto distribution is greater than 0.7 for one or more samples. You should consider using a more robust model, this is because importance sampling is less likely to work well if the marginal posterior and LOO posterior are very different. This is more likely to happen with a non-robust model and highly influential observations.\n",
      "  warnings.warn(\n"
     ]
    },
    {
     "data": {
      "image/png": "[encoded data removed]",
      "text/plain": [
       "<Figure size 432x144 with 1 Axes>"
      ]
     },
     "metadata": {
      "needs_background": "light"
     },
     "output_type": "display_data"
    }
   ],
   "source": [
    "loo = az.compare({\"normal\": model_3_fit_1, \"student\": model_4_fit_1}, ic=\"loo\")\n",
    "az.plot_compare(loo)\n",
    "plt.title(\"LOO models comparison\")\n",
    "plt.show()"
   ]
  },
  {
   "attachments": {},
   "cell_type": "markdown",
   "metadata": {},
   "source": [
    "### WAIC model comparison"
   ]
  },
  {
   "cell_type": "code",
   "execution_count": 62,
   "metadata": {},
   "outputs": [
    {
     "data": {
      "image/png": "[encoded data removed]",
      "text/plain": [
       "<Figure size 432x144 with 1 Axes>"
      ]
     },
     "metadata": {
      "needs_background": "light"
     },
     "output_type": "display_data"
    }
   ],
   "source": [
    "waic = az.compare({\"normal\": model_3_fit_1, \"student\": model_4_fit_1}, ic=\"waic\")\n",
    "az.plot_compare(waic)\n",
    "plt.title(\"WAIC models comparison\")\n",
    "plt.show()"
   ]
  },
  {
   "attachments": {},
   "cell_type": "markdown",
   "metadata": {},
   "source": [
    "### Excercise 3 - compare models with different numbers of predictors"
   ]
  },
  {
   "cell_type": "code",
   "execution_count": 63,
   "metadata": {},
   "outputs": [
    {
     "name": "stderr",
     "output_type": "stream",
     "text": [
      "INFO:cmdstanpy:found newer exe file, not recompiling\n"
     ]
    }
   ],
   "source": [
    "model_5=CmdStanModel(stan_file='code_5.stan')"
   ]
  },
  {
   "cell_type": "code",
   "execution_count": 64,
   "metadata": {},
   "outputs": [
    {
     "name": "stderr",
     "output_type": "stream",
     "text": [
      "INFO:cmdstanpy:CmdStan start processing\n"
     ]
    },
    {
     "data": {
      "application/json": {
       "ascii": false,
       "bar_format": "{desc} |{bar}| {elapsed} {postfix[0][value]}",
       "colour": null,
       "elapsed": 0.04687142372131348,
       "initial": 0,
       "n": 0,
       "ncols": null,
       "nrows": null,
       "postfix": [
        {
         "value": "Status"
        }
       ],
       "prefix": "chain 1",
       "rate": null,
       "total": 3,
       "unit": "it",
       "unit_divisor": 1000,
       "unit_scale": false
      },
      "application/vnd.jupyter.widget-view+json": {
       "model_id": "e6e92641cf4649c79a2ff57d786a14ba",
       "version_major": 2,
       "version_minor": 0
      },
      "text/plain": [
       "chain 1 |          | 00:00 Status"
      ]
     },
     "metadata": {},
     "output_type": "display_data"
    },
    {
     "name": "stdout",
     "output_type": "stream",
     "text": [
      "                                                                                "
     ]
    },
    {
     "name": "stderr",
     "output_type": "stream",
     "text": [
      "INFO:cmdstanpy:CmdStan done processing.\n"
     ]
    },
    {
     "name": "stdout",
     "output_type": "stream",
     "text": [
      "\n"
     ]
    },
    {
     "name": "stderr",
     "output_type": "stream",
     "text": [
      "INFO:cmdstanpy:CmdStan start processing\n"
     ]
    },
    {
     "data": {
      "application/json": {
       "ascii": false,
       "bar_format": "{desc} |{bar}| {elapsed} {postfix[0][value]}",
       "colour": null,
       "elapsed": 0.06385588645935059,
       "initial": 0,
       "n": 0,
       "ncols": null,
       "nrows": null,
       "postfix": [
        {
         "value": "Status"
        }
       ],
       "prefix": "chain 1",
       "rate": null,
       "total": 3,
       "unit": "it",
       "unit_divisor": 1000,
       "unit_scale": false
      },
      "application/vnd.jupyter.widget-view+json": {
       "model_id": "d02ce40d9edb4c55b5ef9072120be6f2",
       "version_major": 2,
       "version_minor": 0
      },
      "text/plain": [
       "chain 1 |          | 00:00 Status"
      ]
     },
     "metadata": {},
     "output_type": "display_data"
    },
    {
     "name": "stdout",
     "output_type": "stream",
     "text": [
      "                                                                                "
     ]
    },
    {
     "name": "stderr",
     "output_type": "stream",
     "text": [
      "INFO:cmdstanpy:CmdStan done processing.\n"
     ]
    },
    {
     "name": "stdout",
     "output_type": "stream",
     "text": [
      "\n"
     ]
    },
    {
     "name": "stderr",
     "output_type": "stream",
     "text": [
      "INFO:cmdstanpy:CmdStan start processing\n"
     ]
    },
    {
     "data": {
      "application/json": {
       "ascii": false,
       "bar_format": "{desc} |{bar}| {elapsed} {postfix[0][value]}",
       "colour": null,
       "elapsed": 0.05004000663757324,
       "initial": 0,
       "n": 0,
       "ncols": null,
       "nrows": null,
       "postfix": [
        {
         "value": "Status"
        }
       ],
       "prefix": "chain 1",
       "rate": null,
       "total": 3,
       "unit": "it",
       "unit_divisor": 1000,
       "unit_scale": false
      },
      "application/vnd.jupyter.widget-view+json": {
       "model_id": "ee1e4ca9a39c4593a20389c8d8bae613",
       "version_major": 2,
       "version_minor": 0
      },
      "text/plain": [
       "chain 1 |          | 00:00 Status"
      ]
     },
     "metadata": {},
     "output_type": "display_data"
    },
    {
     "name": "stdout",
     "output_type": "stream",
     "text": [
      "                                                                                "
     ]
    },
    {
     "name": "stderr",
     "output_type": "stream",
     "text": [
      "INFO:cmdstanpy:CmdStan done processing.\n"
     ]
    },
    {
     "name": "stdout",
     "output_type": "stream",
     "text": [
      "\n"
     ]
    }
   ],
   "source": [
    "models = []\n",
    "predictors = [1, 2, 3]\n",
    "y_data = dataframe_2.loc[0, \"y[1]\": f\"y[{N}]\"]\n",
    "\n",
    "for pred in predictors:\n",
    "    x_data = dataframe_2.loc[:, \"X[1,1]\":f\"X[{N},{pred}]\"].values.reshape((N, pred))\n",
    "    data_ = {'N': N, 'K': pred, 'y': y_data, 'X': x_data}\n",
    "\n",
    "    sim_5=model_5.sample(data=data_,\n",
    "                     iter_sampling=R,\n",
    "                     iter_warmup=0,\n",
    "                     chains=1,\n",
    "                     fixed_param=True,\n",
    "                     seed=29042020,\n",
    "                     refresh=R)\n",
    "    models.append(sim_5)"
   ]
  },
  {
   "attachments": {},
   "cell_type": "markdown",
   "metadata": {},
   "source": [
    "### **LOO and WAIC**"
   ]
  },
  {
   "cell_type": "code",
   "execution_count": 65,
   "metadata": {},
   "outputs": [
    {
     "name": "stdout",
     "output_type": "stream",
     "text": [
      "|=========LOO-1=========|\n"
     ]
    },
    {
     "name": "stderr",
     "output_type": "stream",
     "text": [
      "/usr/local/lib/python3.9/site-packages/arviz/stats/stats.py:811: UserWarning: Estimated shape parameter of Pareto distribution is greater than 0.7 for one or more samples. You should consider using a more robust model, this is because importance sampling is less likely to work well if the marginal posterior and LOO posterior are very different. This is more likely to happen with a non-robust model and highly influential observations.\n",
      "  warnings.warn(\n"
     ]
    },
    {
     "name": "stdout",
     "output_type": "stream",
     "text": [
      "Computed from 1000 by 1400 log-likelihood matrix\n",
      "\n",
      "         Estimate       SE\n",
      "elpd_loo -4684.09   136.04\n",
      "p_loo        0.00        -\n",
      "\n",
      "There has been a warning during the calculation. Please check the results.\n",
      "------\n",
      "\n",
      "Pareto k diagnostic values:\n",
      "                         Count   Pct.\n",
      "(-Inf, 0.5]   (good)        0    0.0%\n",
      " (0.5, 0.7]   (ok)          0    0.0%\n",
      "   (0.7, 1]   (bad)         0    0.0%\n",
      "   (1, Inf)   (very bad) 1400  100.0%\n",
      "\n",
      "|=========WAIC-1=========|\n",
      "Computed from 1000 by 1400 log-likelihood matrix\n",
      "\n",
      "          Estimate       SE\n",
      "elpd_waic -4684.09   136.04\n",
      "p_waic        0.00        -\n",
      "|=========LOO-2=========|\n"
     ]
    },
    {
     "name": "stderr",
     "output_type": "stream",
     "text": [
      "/usr/local/lib/python3.9/site-packages/arviz/stats/stats.py:811: UserWarning: Estimated shape parameter of Pareto distribution is greater than 0.7 for one or more samples. You should consider using a more robust model, this is because importance sampling is less likely to work well if the marginal posterior and LOO posterior are very different. This is more likely to happen with a non-robust model and highly influential observations.\n",
      "  warnings.warn(\n"
     ]
    },
    {
     "name": "stdout",
     "output_type": "stream",
     "text": [
      "Computed from 1000 by 1400 log-likelihood matrix\n",
      "\n",
      "         Estimate       SE\n",
      "elpd_loo -11418.45   391.88\n",
      "p_loo        0.00        -\n",
      "\n",
      "There has been a warning during the calculation. Please check the results.\n",
      "------\n",
      "\n",
      "Pareto k diagnostic values:\n",
      "                         Count   Pct.\n",
      "(-Inf, 0.5]   (good)        0    0.0%\n",
      " (0.5, 0.7]   (ok)          0    0.0%\n",
      "   (0.7, 1]   (bad)         0    0.0%\n",
      "   (1, Inf)   (very bad) 1400  100.0%\n",
      "\n",
      "|=========WAIC-2=========|\n",
      "Computed from 1000 by 1400 log-likelihood matrix\n",
      "\n",
      "          Estimate       SE\n",
      "elpd_waic -11418.45   391.88\n",
      "p_waic        0.00        -\n",
      "|=========LOO-3=========|\n"
     ]
    },
    {
     "name": "stderr",
     "output_type": "stream",
     "text": [
      "/usr/local/lib/python3.9/site-packages/arviz/stats/stats.py:811: UserWarning: Estimated shape parameter of Pareto distribution is greater than 0.7 for one or more samples. You should consider using a more robust model, this is because importance sampling is less likely to work well if the marginal posterior and LOO posterior are very different. This is more likely to happen with a non-robust model and highly influential observations.\n",
      "  warnings.warn(\n"
     ]
    },
    {
     "name": "stdout",
     "output_type": "stream",
     "text": [
      "Computed from 1000 by 1400 log-likelihood matrix\n",
      "\n",
      "         Estimate       SE\n",
      "elpd_loo -11207.45   365.14\n",
      "p_loo        0.00        -\n",
      "\n",
      "There has been a warning during the calculation. Please check the results.\n",
      "------\n",
      "\n",
      "Pareto k diagnostic values:\n",
      "                         Count   Pct.\n",
      "(-Inf, 0.5]   (good)        0    0.0%\n",
      " (0.5, 0.7]   (ok)          0    0.0%\n",
      "   (0.7, 1]   (bad)         0    0.0%\n",
      "   (1, Inf)   (very bad) 1400  100.0%\n",
      "\n",
      "|=========WAIC-3=========|\n",
      "Computed from 1000 by 1400 log-likelihood matrix\n",
      "\n",
      "          Estimate       SE\n",
      "elpd_waic -11207.45   365.14\n",
      "p_waic        0.00        -\n"
     ]
    }
   ],
   "source": [
    "for i in range(len(models)):\n",
    "    print(f\"|=========LOO-{predictors[i]}=========|\")\n",
    "    print(az.loo(models[i]))\n",
    "    print(f\"|=========WAIC-{predictors[i]}=========|\")\n",
    "    print(az.waic(models[i]))"
   ]
  },
  {
   "attachments": {},
   "cell_type": "markdown",
   "metadata": {},
   "source": [
    "### LOO model comparison"
   ]
  },
  {
   "cell_type": "code",
   "execution_count": 66,
   "metadata": {},
   "outputs": [],
   "source": [
    "to_comp = {\"Predictors: 1\": models[0], \"Predictors: 2\": models[1], \"Predictors: 3\": models[2]}"
   ]
  },
  {
   "cell_type": "code",
   "execution_count": 67,
   "metadata": {},
   "outputs": [
    {
     "name": "stderr",
     "output_type": "stream",
     "text": [
      "/usr/local/lib/python3.9/site-packages/arviz/stats/stats.py:811: UserWarning: Estimated shape parameter of Pareto distribution is greater than 0.7 for one or more samples. You should consider using a more robust model, this is because importance sampling is less likely to work well if the marginal posterior and LOO posterior are very different. This is more likely to happen with a non-robust model and highly influential observations.\n",
      "  warnings.warn(\n",
      "/usr/local/lib/python3.9/site-packages/arviz/stats/stats.py:811: UserWarning: Estimated shape parameter of Pareto distribution is greater than 0.7 for one or more samples. You should consider using a more robust model, this is because importance sampling is less likely to work well if the marginal posterior and LOO posterior are very different. This is more likely to happen with a non-robust model and highly influential observations.\n",
      "  warnings.warn(\n",
      "/usr/local/lib/python3.9/site-packages/arviz/stats/stats.py:811: UserWarning: Estimated shape parameter of Pareto distribution is greater than 0.7 for one or more samples. You should consider using a more robust model, this is because importance sampling is less likely to work well if the marginal posterior and LOO posterior are very different. This is more likely to happen with a non-robust model and highly influential observations.\n",
      "  warnings.warn(\n"
     ]
    },
    {
     "data": {
      "image/png": "[encoded data removed]",
      "text/plain": [
       "<Figure size 432x216 with 1 Axes>"
      ]
     },
     "metadata": {
      "needs_background": "light"
     },
     "output_type": "display_data"
    }
   ],
   "source": [
    "loo = az.compare(to_comp, ic=\"loo\")\n",
    "az.plot_compare(loo)\n",
    "plt.title(\"LOO models comparison\")\n",
    "plt.show()"
   ]
  },
  {
   "attachments": {},
   "cell_type": "markdown",
   "metadata": {},
   "source": [
    "### WAIC model comparison"
   ]
  },
  {
   "cell_type": "code",
   "execution_count": 68,
   "metadata": {},
   "outputs": [
    {
     "data": {
      "image/png": "[encoded data removed]",
      "text/plain": [
       "<Figure size 432x216 with 1 Axes>"
      ]
     },
     "metadata": {
      "needs_background": "light"
     },
     "output_type": "display_data"
    }
   ],
   "source": [
    "waic = az.compare(to_comp, ic=\"waic\")\n",
    "az.plot_compare(waic)\n",
    "plt.title(\"WAIC models comparison\")\n",
    "plt.show()"
   ]
  }
 ],
 "metadata": {
  "kernelspec": {
   "display_name": "Python 3",
   "language": "python",
   "name": "python3"
  },
  "language_info": {
   "codemirror_mode": {
    "name": "ipython",
    "version": 3
   },
   "file_extension": ".py",
   "mimetype": "text/x-python",
   "name": "python",
   "nbconvert_exporter": "python",
   "pygments_lexer": "ipython3",
   "version": "3.9.11"
  },
  "orig_nbformat": 4
 },
 "nbformat": 4,
 "nbformat_minor": 2
}
